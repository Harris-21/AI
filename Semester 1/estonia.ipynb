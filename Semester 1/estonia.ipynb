{
 "cells": [
  {
   "cell_type": "code",
   "execution_count": 3,
   "id": "8fe31c2e",
   "metadata": {},
   "outputs": [],
   "source": [
    "import pandas as pd"
   ]
  },
  {
   "cell_type": "code",
   "execution_count": 4,
   "id": "01f6caa3",
   "metadata": {},
   "outputs": [],
   "source": [
    "df = pd.read_csv(\"estonia.csv\")"
   ]
  },
  {
   "cell_type": "code",
   "execution_count": 5,
   "id": "281432ae",
   "metadata": {},
   "outputs": [
    {
     "name": "stdout",
     "output_type": "stream",
     "text": [
      "   PassengerId  Country        Firstname  Lastname Sex  Age Category  Survived\n",
      "0            1   Sweden      ARVID KALLE     AADLI   M   62        P         0\n",
      "1            2  Estonia              LEA   AALISTE   F   22        C         0\n",
      "2            3  Estonia             AIRI   AAVASTE   F   21        C         0\n",
      "3            4   Sweden             JURI     AAVIK   M   53        C         0\n",
      "4            5   Sweden  BRITTA ELISABET  AHLSTROM   F   55        P         0\n"
     ]
    }
   ],
   "source": [
    "print(df.head())"
   ]
  },
  {
   "cell_type": "code",
   "execution_count": 6,
   "id": "efd1b95a",
   "metadata": {},
   "outputs": [
    {
     "name": "stdout",
     "output_type": "stream",
     "text": [
      "Index(['PassengerId', 'Country', 'Firstname', 'Lastname', 'Sex', 'Age',\n",
      "       'Category', 'Survived'],\n",
      "      dtype='object')\n"
     ]
    }
   ],
   "source": [
    "print(df.columns)"
   ]
  },
  {
   "cell_type": "code",
   "execution_count": 8,
   "id": "c6767c81",
   "metadata": {},
   "outputs": [
    {
     "name": "stdout",
     "output_type": "stream",
     "text": [
      "Contingency Table for Survival by Sex:\n",
      "Sex         F    M\n",
      "Survived          \n",
      "0         459  393\n",
      "1          27  110\n"
     ]
    }
   ],
   "source": [
    "contingency_sex = pd.crosstab(df['Survived'], df['Sex'])\n",
    "print(\"Contingency Table for Survival by Sex:\")\n",
    "print(contingency_sex)"
   ]
  },
  {
   "cell_type": "code",
   "execution_count": 10,
   "id": "9bf54bd6",
   "metadata": {},
   "outputs": [
    {
     "name": "stdout",
     "output_type": "stream",
     "text": [
      "Contingency Table for Survival by Age:\n",
      "Age       0   2   4   5   6   9   10  12  13  14  ...  73  74  75  76  77  78  \\\n",
      "Survived                                          ...                           \n",
      "0          1   1   1   2   1   1   3   0   2   2  ...   7  15   5   5   2   4   \n",
      "1          0   0   0   0   0   0   0   1   0   0  ...   0   0   0   0   0   0   \n",
      "\n",
      "Age       80  81  82  87  \n",
      "Survived                  \n",
      "0          2   1   2   1  \n",
      "1          0   0   0   0  \n",
      "\n",
      "[2 rows x 78 columns]\n"
     ]
    }
   ],
   "source": [
    "contingency_age = pd.crosstab(df['Survived'], df['Age'])\n",
    "print(\"Contingency Table for Survival by Age:\")\n",
    "print(contingency_age)"
   ]
  },
  {
   "cell_type": "code",
   "execution_count": 12,
   "id": "f4634a12",
   "metadata": {},
   "outputs": [
    {
     "name": "stdout",
     "output_type": "stream",
     "text": [
      "Contingency Table for Survival by Class of Travel:\n",
      "Category    C    P\n",
      "Survived          \n",
      "0         154  698\n",
      "1          39   98\n"
     ]
    }
   ],
   "source": [
    "contingency_category = pd.crosstab(df['Survived'], df['Category'])\n",
    "print(\"Contingency Table for Survival by Class of Travel:\")\n",
    "print(contingency_category)"
   ]
  },
  {
   "cell_type": "code",
   "execution_count": 15,
   "id": "21cb2d26",
   "metadata": {},
   "outputs": [
    {
     "name": "stdout",
     "output_type": "stream",
     "text": [
      "Survival Rate by Sex:\n",
      "Sex\n",
      "F    0.055556\n",
      "M    0.218688\n",
      "Name: Survived, dtype: float64\n"
     ]
    }
   ],
   "source": [
    "survival_by_sex = df.groupby('Sex')['Survived'].mean()\n",
    "print(\"Survival Rate by Sex:\")\n",
    "print(survival_by_sex)"
   ]
  },
  {
   "cell_type": "code",
   "execution_count": 16,
   "id": "078c1d1e",
   "metadata": {},
   "outputs": [
    {
     "name": "stdout",
     "output_type": "stream",
     "text": [
      "Survival Rate by Age:\n",
      "Age\n",
      "0     0.0\n",
      "2     0.0\n",
      "4     0.0\n",
      "5     0.0\n",
      "6     0.0\n",
      "     ... \n",
      "78    0.0\n",
      "80    0.0\n",
      "81    0.0\n",
      "82    0.0\n",
      "87    0.0\n",
      "Name: Survived, Length: 78, dtype: float64\n"
     ]
    }
   ],
   "source": [
    "survival_by_age = df.groupby('Age')['Survived'].mean()\n",
    "print(\"Survival Rate by Age:\")\n",
    "print(survival_by_age)"
   ]
  },
  {
   "cell_type": "code",
   "execution_count": 17,
   "id": "e9dfa20c",
   "metadata": {},
   "outputs": [
    {
     "name": "stdout",
     "output_type": "stream",
     "text": [
      "Survival Rate by Category of Travel:\n",
      "Category\n",
      "C    0.202073\n",
      "P    0.123116\n",
      "Name: Survived, dtype: float64\n"
     ]
    }
   ],
   "source": [
    "survival_by_category = df.groupby('Category')['Survived'].mean()\n",
    "print(\"Survival Rate by Category of Travel:\")\n",
    "print(survival_by_category)"
   ]
  },
  {
   "cell_type": "code",
   "execution_count": null,
   "id": "6102fe2c",
   "metadata": {},
   "outputs": [],
   "source": []
  }
 ],
 "metadata": {
  "kernelspec": {
   "display_name": "Python 3 (ipykernel)",
   "language": "python",
   "name": "python3"
  },
  "language_info": {
   "codemirror_mode": {
    "name": "ipython",
    "version": 3
   },
   "file_extension": ".py",
   "mimetype": "text/x-python",
   "name": "python",
   "nbconvert_exporter": "python",
   "pygments_lexer": "ipython3",
   "version": "3.9.13"
  }
 },
 "nbformat": 4,
 "nbformat_minor": 5
}
