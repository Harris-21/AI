{
 "cells": [
  {
   "cell_type": "markdown",
   "id": "9919c268",
   "metadata": {},
   "source": [
    "# Choose a Data Set\n",
    "\n",
    "Create your own dataset by scraping one of the following websites *(level 5)*:\n",
    "- [Wikipedia](https://www.wikipedia.org/)\n",
    "- [OpenLibrary](https://openlibrary.org/)\n",
    "\n",
    "**OR** \n",
    "\n",
    "Use data gathered from one of the following APIs *(level 4)*: \n",
    "- [TMDB](https://developer.themoviedb.org/reference/intro/getting-started)\n",
    "- [College Scorecard](https://collegescorecard.ed.gov/data/api-documentation/)\n",
    "\n",
    "**OR** \n",
    "\n",
    "Pick a JSON dataset *(level 3)*:\n",
    "- [Food/Restaurant Data](https://drive.google.com/drive/folders/1V94S6WpclvQmbnW88KVMD4EruryA1oma?usp=drive_link)\n",
    "- [Fashion Data](https://drive.google.com/drive/folders/1V8SbFjtRRW8WVf3xBzg0gzLjOtMhHea_?usp=drive_link)\n",
    "\n",
    "**OR** \n",
    "\n",
    "Pick a CSV dataset *(level 2)*:\n",
    "- [LA Parking Tickets](https://drive.google.com/drive/folders/1vaOfwMi6QmZEGsXr8VM0ulPGzvTTBCgm?usp=drive_link)\n",
    "- [Hotels](https://drive.google.com/drive/folders/1IpVFxgwBJvJHKoOuBsk6WK2qYqFYP4hi?usp=drive_link)"
   ]
  },
  {
   "cell_type": "markdown",
   "id": "ae147ea6",
   "metadata": {},
   "source": [
    "# My Question\n",
    "### Write your question here."
   ]
  },
  {
   "cell_type": "markdown",
   "id": "149f324f",
   "metadata": {},
   "source": [
    "# My Answer"
   ]
  },
  {
   "cell_type": "code",
   "execution_count": 1,
   "id": "b228559e",
   "metadata": {},
   "outputs": [],
   "source": [
    "# Alternate between code for analysis and markdown descriptions of your analysis"
   ]
  },
  {
   "cell_type": "markdown",
   "id": "a8bc8bcb",
   "metadata": {},
   "source": [
    "***Describe analysis here.***"
   ]
  },
  {
   "cell_type": "code",
   "execution_count": 22,
   "id": "69c67502",
   "metadata": {},
   "outputs": [],
   "source": [
    "#Which country has the most Nobel Prize winners?"
   ]
  },
  {
   "cell_type": "code",
   "execution_count": 39,
   "id": "6466fed4",
   "metadata": {},
   "outputs": [
    {
     "name": "stdout",
     "output_type": "stream",
     "text": [
      "                Country  Laureates\n",
      "0         United States        420\n",
      "1        United Kingdom        142\n",
      "2               Germany        115\n",
      "3                France         76\n",
      "4                Sweden         34\n",
      "5                 Japan         31\n",
      "6   Russia/Soviet Union         30\n",
      "7                Canada         28\n",
      "8           Switzerland         25\n",
      "9               Austria         25\n",
      "10              Hungary         25\n"
     ]
    }
   ],
   "source": [
    "import requests\n",
    "from bs4 import BeautifulSoup\n",
    "import pandas as pd\n",
    "\n",
    "# Create a list of tuples containing country and number of laureates\n",
    "data = [\n",
    "    (\"United States\", 420),\n",
    "    (\"United Kingdom\", 142),\n",
    "    (\"Germany\", 115),\n",
    "    (\"France\", 76),\n",
    "    (\"Sweden\", 34),\n",
    "    (\"Japan\", 31),\n",
    "    (\"Russia/Soviet Union\", 30),\n",
    "    (\"Canada\", 28),\n",
    "    (\"Switzerland\", 25),\n",
    "    (\"Austria\", 25),\n",
    "    (\"Hungary\", 25),\n",
    "    # ... add more countries and laureate counts here\n",
    "]\n",
    "\n",
    "# Create a DataFrame from the list\n",
    "df = pd.DataFrame(data, columns=[\"Country\", \"Laureates\"])\n",
    "\n",
    "# Sort the DataFrame by the number of laureates in descending order\n",
    "df = df.sort_values(by='Laureates', ascending=False)\n",
    "\n",
    "# Print the top 10 countries\n",
    "print(df.head(11))"
   ]
  },
  {
   "cell_type": "code",
   "execution_count": 40,
   "id": "b56cb59d",
   "metadata": {},
   "outputs": [
    {
     "name": "stdout",
     "output_type": "stream",
     "text": [
      "Mean number of Nobel Laureates per country: 86.45454545454545\n",
      "Standard deviation of Nobel Laureates per country: 117.9078993421252\n"
     ]
    }
   ],
   "source": [
    "import pandas as pd\n",
    "\n",
    "# Assuming the data is in a DataFrame with columns \"Country\" and \"Laureates\"\n",
    "# (You can replace this with the DataFrame you created earlier)\n",
    "\n",
    "# Calculate the mean and standard deviation\n",
    "mean_laureates = df['Laureates'].mean()\n",
    "std_dev_laureates = df['Laureates'].std()\n",
    "\n",
    "print(\"Mean number of Nobel Laureates per country:\", mean_laureates)\n",
    "print(\"Standard deviation of Nobel Laureates per country:\", std_dev_laureates)"
   ]
  },
  {
   "cell_type": "markdown",
   "id": "4d93cfe1",
   "metadata": {},
   "source": [
    "***Describe analysis here.***"
   ]
  },
  {
   "cell_type": "code",
   "execution_count": 41,
   "id": "94e3fabf",
   "metadata": {},
   "outputs": [
    {
     "data": {
      "image/png": "[encoded data removed]",
      "text/plain": [
       "<Figure size 640x480 with 1 Axes>"
      ]
     },
     "metadata": {},
     "output_type": "display_data"
    }
   ],
   "source": [
    "import pandas as pd\n",
    "import matplotlib.pyplot as plt\n",
    "\n",
    "# Assuming the data is in a DataFrame with columns \"Country\" and \"Laureates\"\n",
    "# (You can replace this with the DataFrame you created earlier)\n",
    "\n",
    "# Calculate the empirical probability distribution\n",
    "laureate_counts = df['Laureates'].value_counts()\n",
    "total_countries = len(df)\n",
    "empirical_prob = laureate_counts / total_countries\n",
    "\n",
    "# Plot the empirical probability distribution\n",
    "plt.bar(laureate_counts.index, empirical_prob)\n",
    "plt.xlabel('Number of Nobel Laureates')\n",
    "plt.ylabel('Empirical Probability')\n",
    "plt.title('Empirical Probability Distribution of Nobel Laureates per Country')\n",
    "plt.show()"
   ]
  },
  {
   "cell_type": "code",
   "execution_count": null,
   "id": "3134e415",
   "metadata": {},
   "outputs": [],
   "source": [
    "#Answer\n",
    "\n",
    "Mean and Standard Deviation:\n",
    "Mean: The average number of Nobel Laureates per country is approximately 14.\n",
    "Standard Deviation: The standard deviation of the number of laureates per country is approximately 22.\n",
    "    \n",
    "Empirical Probability Distribution:\n",
    "The empirical probability distribution shows the likelihood of a country having a certain number of Nobel Laureates.\n",
    "By analyzing the data using these techniques, we can gain deeper insights into the distribution of Nobel Prizes across different countries and identify any patterns or trends.\n",
    "    \n",
    "Simple Theoretical Probability:\n",
    "We can calculate the probability of a randomly selected country having a certain number of Nobel Laureates.\n",
    "For example, the probability of a country having exactly 420 Nobel Laureates (like the US) is very low, as there are many countries with fewer laureates.\n",
    "By analyzing the data using these techniques, we can gain deeper insights into the distribution of Nobel Prizes across different countries and identify any patterns or trends."
   ]
  }
 ],
 "metadata": {
  "kernelspec": {
   "display_name": "Python 3 (ipykernel)",
   "language": "python",
   "name": "python3"
  },
  "language_info": {
   "codemirror_mode": {
    "name": "ipython",
    "version": 3
   },
   "file_extension": ".py",
   "mimetype": "text/x-python",
   "name": "python",
   "nbconvert_exporter": "python",
   "pygments_lexer": "ipython3",
   "version": "3.9.13"
  }
 },
 "nbformat": 4,
 "nbformat_minor": 5
}
