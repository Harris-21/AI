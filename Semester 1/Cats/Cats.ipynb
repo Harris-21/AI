{
 "cells": [
  {
   "cell_type": "code",
   "execution_count": 1,
   "id": "6092ab1c",
   "metadata": {},
   "outputs": [],
   "source": [
    "import pandas as pd"
   ]
  },
  {
   "cell_type": "code",
   "execution_count": 2,
   "id": "eba50c00",
   "metadata": {},
   "outputs": [],
   "source": [
    "df = pd.read_csv(\"cats.csv\")"
   ]
  },
  {
   "cell_type": "code",
   "execution_count": 3,
   "id": "a4e712de",
   "metadata": {},
   "outputs": [
    {
     "data": {
      "text/plain": [
       "<bound method DataFrame.info of      Unnamed: 0          Breed  Age (Years)  Weight (kg)          Color  \\\n",
       "0             0   Egyptian Mau           12            7          White   \n",
       "1             1  Scottish Fold           17            8  Tortoiseshell   \n",
       "2             2         Sphynx            9            9         Orange   \n",
       "3             3       Oriental            6            7           Gray   \n",
       "4             4       Savannah           14            7  Tortoiseshell   \n",
       "..          ...            ...          ...          ...            ...   \n",
       "995         995     Abyssinian           18            3          Black   \n",
       "996         996        Burmese            4            5        Pointed   \n",
       "997         997        Persian           19            9          Cream   \n",
       "998         998        Persian           17            3        Bicolor   \n",
       "999         999           Manx           18            8          Black   \n",
       "\n",
       "     Gender   ID  \n",
       "0      Male  181  \n",
       "1      Male  907  \n",
       "2      Male  732  \n",
       "3    Female  464  \n",
       "4    Female  451  \n",
       "..      ...  ...  \n",
       "995  Female  347  \n",
       "996  Female  339  \n",
       "997    Male  659  \n",
       "998  Female  124  \n",
       "999    Male  226  \n",
       "\n",
       "[1000 rows x 7 columns]>"
      ]
     },
     "execution_count": 3,
     "metadata": {},
     "output_type": "execute_result"
    }
   ],
   "source": [
    "df.info"
   ]
  },
  {
   "cell_type": "code",
   "execution_count": 4,
   "id": "2302295b",
   "metadata": {},
   "outputs": [
    {
     "data": {
      "text/plain": [
       "Index(['Unnamed: 0', 'Breed', 'Age (Years)', 'Weight (kg)', 'Color', 'Gender',\n",
       "       'ID'],\n",
       "      dtype='object')"
      ]
     },
     "execution_count": 4,
     "metadata": {},
     "output_type": "execute_result"
    }
   ],
   "source": [
    "df.columns"
   ]
  },
  {
   "cell_type": "code",
   "execution_count": 5,
   "id": "1f4f5297",
   "metadata": {},
   "outputs": [
    {
     "ename": "SyntaxError",
     "evalue": "EOL while scanning string literal (3934315330.py, line 1)",
     "output_type": "error",
     "traceback": [
      "\u001b[1;36m  File \u001b[1;32m\"C:\\Users\\milyas2\\AppData\\Local\\Temp\\ipykernel_20700\\3934315330.py\"\u001b[1;36m, line \u001b[1;32m1\u001b[0m\n\u001b[1;33m    df.drop(['unnamed:0], inplace=True, axis =1)\u001b[0m\n\u001b[1;37m                                                ^\u001b[0m\n\u001b[1;31mSyntaxError\u001b[0m\u001b[1;31m:\u001b[0m EOL while scanning string literal\n"
     ]
    }
   ],
   "source": [
    "df.drop(['unnamed:0], inplace=True, axis =1)"
   ]
  },
  {
   "cell_type": "code",
   "execution_count": 6,
   "id": "11447a81",
   "metadata": {},
   "outputs": [
    {
     "data": {
      "text/plain": [
       "<bound method NDFrame.head of      Unnamed: 0          Breed  Age (Years)  Weight (kg)          Color  \\\n",
       "0             0   Egyptian Mau           12            7          White   \n",
       "1             1  Scottish Fold           17            8  Tortoiseshell   \n",
       "2             2         Sphynx            9            9         Orange   \n",
       "3             3       Oriental            6            7           Gray   \n",
       "4             4       Savannah           14            7  Tortoiseshell   \n",
       "..          ...            ...          ...          ...            ...   \n",
       "995         995     Abyssinian           18            3          Black   \n",
       "996         996        Burmese            4            5        Pointed   \n",
       "997         997        Persian           19            9          Cream   \n",
       "998         998        Persian           17            3        Bicolor   \n",
       "999         999           Manx           18            8          Black   \n",
       "\n",
       "     Gender   ID  \n",
       "0      Male  181  \n",
       "1      Male  907  \n",
       "2      Male  732  \n",
       "3    Female  464  \n",
       "4    Female  451  \n",
       "..      ...  ...  \n",
       "995  Female  347  \n",
       "996  Female  339  \n",
       "997    Male  659  \n",
       "998  Female  124  \n",
       "999    Male  226  \n",
       "\n",
       "[1000 rows x 7 columns]>"
      ]
     },
     "execution_count": 6,
     "metadata": {},
     "output_type": "execute_result"
    }
   ],
   "source": [
    "df.head"
   ]
  },
  {
   "cell_type": "code",
   "execution_count": 52,
   "id": "97561012",
   "metadata": {},
   "outputs": [],
   "source": [
    "sample_99 = df.iloc[98]"
   ]
  },
  {
   "cell_type": "code",
   "execution_count": 53,
   "id": "48aceaf0",
   "metadata": {},
   "outputs": [
    {
     "name": "stdout",
     "output_type": "stream",
     "text": [
      "Unnamed: 0           98.0\n",
      "Breed          Maine Coon\n",
      "Age (Years)           9.0\n",
      "Weight (kg)           5.0\n",
      "Color                Blue\n",
      "Gender             Female\n",
      "ID                  590.0\n",
      "Name: 98, dtype: object\n"
     ]
    }
   ],
   "source": [
    "print(sample_99)"
   ]
  },
  {
   "cell_type": "code",
   "execution_count": 49,
   "id": "c4ee111a",
   "metadata": {},
   "outputs": [],
   "source": [
    "zuko_data = {\n",
    "    'Unnamed: 0': 'Zuko',          \n",
    "    'Breed': 'Tabby',            \n",
    "    'Age (Years)': 3,            \n",
    "    'Weight (kg)': 5,           \n",
    "    'Color': 'Orange',     \n",
    "    'Gender': 'Male',              \n",
    "    'ID': None                   \n",
    "}"
   ]
  },
  {
   "cell_type": "code",
   "execution_count": 50,
   "id": "67465f44",
   "metadata": {},
   "outputs": [],
   "source": [
    "df.loc[len(df)] = zuko_data"
   ]
  },
  {
   "cell_type": "code",
   "execution_count": 51,
   "id": "bc4b5589",
   "metadata": {},
   "outputs": [
    {
     "name": "stdout",
     "output_type": "stream",
     "text": [
      "     Unnamed: 0  Breed  Age (Years)  Weight (kg)         Color Gender    ID\n",
      "1003        NaN    NaN          NaN          3.0  Orange Tabby    NaN   NaN\n",
      "1004        NaN    NaN          NaN          3.0  Orange Tabby    NaN   NaN\n",
      "1005       None  Tabby          3.0          3.0  Orange Tabby   None  None\n",
      "1006       Zuko  Tabby          3.0          3.0        Orange   Male  None\n",
      "1007       Zuko  Tabby          3.0          5.0        Orange   Male  None\n"
     ]
    }
   ],
   "source": [
    "print(df.tail())"
   ]
  },
  {
   "cell_type": "code",
   "execution_count": null,
   "id": "e330338f",
   "metadata": {},
   "outputs": [],
   "source": [
    "df.loc[len(df)] = [\"Orange Tabby\", 3, 5, \"Orange\", \"Male\"]"
   ]
  },
  {
   "cell_type": "code",
   "execution_count": 55,
   "id": "7085c5d3",
   "metadata": {},
   "outputs": [],
   "source": [
    "df['Weight(Lbs)'] = df['Weight (kg)'] *2.205"
   ]
  },
  {
   "cell_type": "code",
   "execution_count": 56,
   "id": "25d5e8b5",
   "metadata": {},
   "outputs": [
    {
     "data": {
      "text/html": [
       "<div>\n",
       "<style scoped>\n",
       "    .dataframe tbody tr th:only-of-type {\n",
       "        vertical-align: middle;\n",
       "    }\n",
       "\n",
       "    .dataframe tbody tr th {\n",
       "        vertical-align: top;\n",
       "    }\n",
       "\n",
       "    .dataframe thead th {\n",
       "        text-align: right;\n",
       "    }\n",
       "</style>\n",
       "<table border=\"1\" class=\"dataframe\">\n",
       "  <thead>\n",
       "    <tr style=\"text-align: right;\">\n",
       "      <th></th>\n",
       "      <th>Unnamed: 0</th>\n",
       "      <th>Breed</th>\n",
       "      <th>Age (Years)</th>\n",
       "      <th>Weight (kg)</th>\n",
       "      <th>Color</th>\n",
       "      <th>Gender</th>\n",
       "      <th>ID</th>\n",
       "      <th>Weight(Lbs)</th>\n",
       "    </tr>\n",
       "  </thead>\n",
       "  <tbody>\n",
       "    <tr>\n",
       "      <th>1003</th>\n",
       "      <td>NaN</td>\n",
       "      <td>NaN</td>\n",
       "      <td>NaN</td>\n",
       "      <td>3.0</td>\n",
       "      <td>Orange Tabby</td>\n",
       "      <td>NaN</td>\n",
       "      <td>NaN</td>\n",
       "      <td>6.615</td>\n",
       "    </tr>\n",
       "    <tr>\n",
       "      <th>1004</th>\n",
       "      <td>NaN</td>\n",
       "      <td>NaN</td>\n",
       "      <td>NaN</td>\n",
       "      <td>3.0</td>\n",
       "      <td>Orange Tabby</td>\n",
       "      <td>NaN</td>\n",
       "      <td>NaN</td>\n",
       "      <td>6.615</td>\n",
       "    </tr>\n",
       "    <tr>\n",
       "      <th>1005</th>\n",
       "      <td>None</td>\n",
       "      <td>Tabby</td>\n",
       "      <td>3.0</td>\n",
       "      <td>3.0</td>\n",
       "      <td>Orange Tabby</td>\n",
       "      <td>None</td>\n",
       "      <td>None</td>\n",
       "      <td>6.615</td>\n",
       "    </tr>\n",
       "    <tr>\n",
       "      <th>1006</th>\n",
       "      <td>Zuko</td>\n",
       "      <td>Tabby</td>\n",
       "      <td>3.0</td>\n",
       "      <td>3.0</td>\n",
       "      <td>Orange</td>\n",
       "      <td>Male</td>\n",
       "      <td>None</td>\n",
       "      <td>6.615</td>\n",
       "    </tr>\n",
       "    <tr>\n",
       "      <th>1007</th>\n",
       "      <td>Zuko</td>\n",
       "      <td>Tabby</td>\n",
       "      <td>3.0</td>\n",
       "      <td>5.0</td>\n",
       "      <td>Orange</td>\n",
       "      <td>Male</td>\n",
       "      <td>None</td>\n",
       "      <td>11.025</td>\n",
       "    </tr>\n",
       "  </tbody>\n",
       "</table>\n",
       "</div>"
      ],
      "text/plain": [
       "     Unnamed: 0  Breed  Age (Years)  Weight (kg)         Color Gender    ID  \\\n",
       "1003        NaN    NaN          NaN          3.0  Orange Tabby    NaN   NaN   \n",
       "1004        NaN    NaN          NaN          3.0  Orange Tabby    NaN   NaN   \n",
       "1005       None  Tabby          3.0          3.0  Orange Tabby   None  None   \n",
       "1006       Zuko  Tabby          3.0          3.0        Orange   Male  None   \n",
       "1007       Zuko  Tabby          3.0          5.0        Orange   Male  None   \n",
       "\n",
       "      Weight(Lbs)  \n",
       "1003        6.615  \n",
       "1004        6.615  \n",
       "1005        6.615  \n",
       "1006        6.615  \n",
       "1007       11.025  "
      ]
     },
     "execution_count": 56,
     "metadata": {},
     "output_type": "execute_result"
    }
   ],
   "source": [
    "df.tail()"
   ]
  },
  {
   "cell_type": "code",
   "execution_count": 9,
   "id": "89b667fb",
   "metadata": {},
   "outputs": [
    {
     "ename": "NameError",
     "evalue": "name 'df' is not defined",
     "output_type": "error",
     "traceback": [
      "\u001b[1;31m---------------------------------------------------------------------------\u001b[0m",
      "\u001b[1;31mNameError\u001b[0m                                 Traceback (most recent call last)",
      "\u001b[1;32m~\\AppData\\Local\\Temp\\ipykernel_26884\\3518718990.py\u001b[0m in \u001b[0;36m<module>\u001b[1;34m\u001b[0m\n\u001b[1;32m----> 1\u001b[1;33m \u001b[0msample_43\u001b[0m \u001b[1;33m=\u001b[0m \u001b[0mdf\u001b[0m\u001b[1;33m.\u001b[0m\u001b[0mloc\u001b[0m\u001b[1;33m[\u001b[0m\u001b[1;36m42\u001b[0m\u001b[1;33m]\u001b[0m\u001b[1;33m\u001b[0m\u001b[1;33m\u001b[0m\u001b[0m\n\u001b[0m",
      "\u001b[1;31mNameError\u001b[0m: name 'df' is not defined"
     ]
    }
   ],
   "source": [
    "df.loc[42]"
   ]
  },
  {
   "cell_type": "code",
   "execution_count": 10,
   "id": "21828e83",
   "metadata": {},
   "outputs": [
    {
     "ename": "NameError",
     "evalue": "name 'sample_43' is not defined",
     "output_type": "error",
     "traceback": [
      "\u001b[1;31m---------------------------------------------------------------------------\u001b[0m",
      "\u001b[1;31mNameError\u001b[0m                                 Traceback (most recent call last)",
      "\u001b[1;32m~\\AppData\\Local\\Temp\\ipykernel_26884\\3816227062.py\u001b[0m in \u001b[0;36m<module>\u001b[1;34m\u001b[0m\n\u001b[1;32m----> 1\u001b[1;33m \u001b[0mprint\u001b[0m\u001b[1;33m(\u001b[0m\u001b[0msample_43\u001b[0m\u001b[1;33m)\u001b[0m\u001b[1;33m\u001b[0m\u001b[1;33m\u001b[0m\u001b[0m\n\u001b[0m",
      "\u001b[1;31mNameError\u001b[0m: name 'sample_43' is not defined"
     ]
    }
   ],
   "source": []
  },
  {
   "cell_type": "code",
   "execution_count": null,
   "id": "bb50f3a1",
   "metadata": {},
   "outputs": [],
   "source": []
  },
  {
   "cell_type": "code",
   "execution_count": null,
   "id": "4e5e4a55",
   "metadata": {},
   "outputs": [],
   "source": []
  }
 ],
 "metadata": {
  "kernelspec": {
   "display_name": "Python 3 (ipykernel)",
   "language": "python",
   "name": "python3"
  },
  "language_info": {
   "codemirror_mode": {
    "name": "ipython",
    "version": 3
   },
   "file_extension": ".py",
   "mimetype": "text/x-python",
   "name": "python",
   "nbconvert_exporter": "python",
   "pygments_lexer": "ipython3",
   "version": "3.9.13"
  }
 },
 "nbformat": 4,
 "nbformat_minor": 5
}
