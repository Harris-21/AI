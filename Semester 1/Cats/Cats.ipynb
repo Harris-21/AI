{
 "cells": [
  {
   "cell_type": "code",
   "execution_count": 1,
   "id": "6092ab1c",
   "metadata": {},
   "outputs": [],
   "source": [
    "import pandas as pd"
   ]
  },
  {
   "cell_type": "code",
   "execution_count": 2,
   "id": "46928964",
   "metadata": {},
   "outputs": [],
   "source": [
    "df = pd.read_csv(\"cats.csv\")"
   ]
  },
  {
   "cell_type": "code",
   "execution_count": 3,
   "id": "cfcae261",
   "metadata": {},
   "outputs": [
    {
     "data": {
      "text/plain": [
       "<bound method DataFrame.info of      Unnamed: 0          Breed  Age (Years)  Weight (kg)          Color  \\\n",
       "0             0   Egyptian Mau           12            7          White   \n",
       "1             1  Scottish Fold           17            8  Tortoiseshell   \n",
       "2             2         Sphynx            9            9         Orange   \n",
       "3             3       Oriental            6            7           Gray   \n",
       "4             4       Savannah           14            7  Tortoiseshell   \n",
       "..          ...            ...          ...          ...            ...   \n",
       "995         995     Abyssinian           18            3          Black   \n",
       "996         996        Burmese            4            5        Pointed   \n",
       "997         997        Persian           19            9          Cream   \n",
       "998         998        Persian           17            3        Bicolor   \n",
       "999         999           Manx           18            8          Black   \n",
       "\n",
       "     Gender   ID  \n",
       "0      Male  181  \n",
       "1      Male  907  \n",
       "2      Male  732  \n",
       "3    Female  464  \n",
       "4    Female  451  \n",
       "..      ...  ...  \n",
       "995  Female  347  \n",
       "996  Female  339  \n",
       "997    Male  659  \n",
       "998  Female  124  \n",
       "999    Male  226  \n",
       "\n",
       "[1000 rows x 7 columns]>"
      ]
     },
     "execution_count": 3,
     "metadata": {},
     "output_type": "execute_result"
    }
   ],
   "source": [
    "df.info"
   ]
  },
  {
   "cell_type": "code",
   "execution_count": 4,
   "id": "ba938d0f",
   "metadata": {},
   "outputs": [
    {
     "data": {
      "text/plain": [
       "Index(['Unnamed: 0', 'Breed', 'Age (Years)', 'Weight (kg)', 'Color', 'Gender',\n",
       "       'ID'],\n",
       "      dtype='object')"
      ]
     },
     "execution_count": 4,
     "metadata": {},
     "output_type": "execute_result"
    }
   ],
   "source": [
    "df.columns"
   ]
  },
  {
   "cell_type": "code",
   "execution_count": 5,
   "id": "7bd8672b",
   "metadata": {},
   "outputs": [
    {
     "ename": "SyntaxError",
     "evalue": "EOL while scanning string literal (3934315330.py, line 1)",
     "output_type": "error",
     "traceback": [
      "\u001b[1;36m  File \u001b[1;32m\"C:\\Users\\milyas2\\AppData\\Local\\Temp\\ipykernel_20700\\3934315330.py\"\u001b[1;36m, line \u001b[1;32m1\u001b[0m\n\u001b[1;33m    df.drop(['unnamed:0], inplace=True, axis =1)\u001b[0m\n\u001b[1;37m                                                ^\u001b[0m\n\u001b[1;31mSyntaxError\u001b[0m\u001b[1;31m:\u001b[0m EOL while scanning string literal\n"
     ]
    }
   ],
   "source": [
    "df.drop(['unnamed:0], inplace=True, axis =1)"
   ]
  },
  {
   "cell_type": "code",
   "execution_count": 6,
   "id": "277e1dd8",
   "metadata": {},
   "outputs": [
    {
     "data": {
      "text/plain": [
       "<bound method NDFrame.head of      Unnamed: 0          Breed  Age (Years)  Weight (kg)          Color  \\\n",
       "0             0   Egyptian Mau           12            7          White   \n",
       "1             1  Scottish Fold           17            8  Tortoiseshell   \n",
       "2             2         Sphynx            9            9         Orange   \n",
       "3             3       Oriental            6            7           Gray   \n",
       "4             4       Savannah           14            7  Tortoiseshell   \n",
       "..          ...            ...          ...          ...            ...   \n",
       "995         995     Abyssinian           18            3          Black   \n",
       "996         996        Burmese            4            5        Pointed   \n",
       "997         997        Persian           19            9          Cream   \n",
       "998         998        Persian           17            3        Bicolor   \n",
       "999         999           Manx           18            8          Black   \n",
       "\n",
       "     Gender   ID  \n",
       "0      Male  181  \n",
       "1      Male  907  \n",
       "2      Male  732  \n",
       "3    Female  464  \n",
       "4    Female  451  \n",
       "..      ...  ...  \n",
       "995  Female  347  \n",
       "996  Female  339  \n",
       "997    Male  659  \n",
       "998  Female  124  \n",
       "999    Male  226  \n",
       "\n",
       "[1000 rows x 7 columns]>"
      ]
     },
     "execution_count": 6,
     "metadata": {},
     "output_type": "execute_result"
    }
   ],
   "source": [
    "df.head"
   ]
  },
  {
   "cell_type": "code",
   "execution_count": null,
   "id": "3a198235",
   "metadata": {},
   "outputs": [],
   "source": []
  }
 ],
 "metadata": {
  "kernelspec": {
   "display_name": "Python 3 (ipykernel)",
   "language": "python",
   "name": "python3"
  },
  "language_info": {
   "codemirror_mode": {
    "name": "ipython",
    "version": 3
   },
   "file_extension": ".py",
   "mimetype": "text/x-python",
   "name": "python",
   "nbconvert_exporter": "python",
   "pygments_lexer": "ipython3",
   "version": "3.9.13"
  }
 },
 "nbformat": 4,
 "nbformat_minor": 5
}
