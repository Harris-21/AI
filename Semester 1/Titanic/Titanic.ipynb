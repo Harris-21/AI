{
 "cells": [
  {
   "cell_type": "code",
   "execution_count": 6,
   "id": "a3564efd",
   "metadata": {},
   "outputs": [],
   "source": [
    "import pandas as pd"
   ]
  },
  {
   "cell_type": "code",
   "execution_count": 7,
   "id": "606d7cee",
   "metadata": {},
   "outputs": [],
   "source": [
    "df = pd.read_csv(\"Titanic.csv\")"
   ]
  },
  {
   "cell_type": "code",
   "execution_count": 8,
   "id": "fc24d26f",
   "metadata": {},
   "outputs": [
    {
     "data": {
      "text/plain": [
       "Index(['PassengerId', 'Survived', 'Pclass', 'Name', 'Sex', 'Age', 'SibSp',\n",
       "       'Parch', 'Ticket', 'Fare', 'Cabin', 'Embarked'],\n",
       "      dtype='object')"
      ]
     },
     "execution_count": 8,
     "metadata": {},
     "output_type": "execute_result"
    }
   ],
   "source": [
    "df.columns"
   ]
  },
  {
   "cell_type": "code",
   "execution_count": 9,
   "id": "23db1fbd",
   "metadata": {},
   "outputs": [
    {
     "data": {
      "text/plain": [
       "PassengerId                  100\n",
       "Survived                       0\n",
       "Pclass                         2\n",
       "Name           Kantor, Mr. Sinai\n",
       "Sex                         male\n",
       "Age                         34.0\n",
       "SibSp                          1\n",
       "Parch                          0\n",
       "Ticket                    244367\n",
       "Fare                        26.0\n",
       "Cabin                        NaN\n",
       "Embarked                       S\n",
       "Name: 99, dtype: object"
      ]
     },
     "execution_count": 9,
     "metadata": {},
     "output_type": "execute_result"
    }
   ],
   "source": [
    "df.loc[99]"
   ]
  },
  {
   "cell_type": "code",
   "execution_count": 10,
   "id": "ecd011f4",
   "metadata": {},
   "outputs": [
    {
     "data": {
      "text/html": [
       "<div>\n",
       "<style scoped>\n",
       "    .dataframe tbody tr th:only-of-type {\n",
       "        vertical-align: middle;\n",
       "    }\n",
       "\n",
       "    .dataframe tbody tr th {\n",
       "        vertical-align: top;\n",
       "    }\n",
       "\n",
       "    .dataframe thead th {\n",
       "        text-align: right;\n",
       "    }\n",
       "</style>\n",
       "<table border=\"1\" class=\"dataframe\">\n",
       "  <thead>\n",
       "    <tr style=\"text-align: right;\">\n",
       "      <th></th>\n",
       "      <th>PassengerId</th>\n",
       "      <th>Survived</th>\n",
       "      <th>Pclass</th>\n",
       "      <th>Name</th>\n",
       "      <th>Sex</th>\n",
       "      <th>Age</th>\n",
       "      <th>SibSp</th>\n",
       "      <th>Parch</th>\n",
       "      <th>Ticket</th>\n",
       "      <th>Fare</th>\n",
       "      <th>Cabin</th>\n",
       "      <th>Embarked</th>\n",
       "    </tr>\n",
       "  </thead>\n",
       "  <tbody>\n",
       "    <tr>\n",
       "      <th>0</th>\n",
       "      <td>1</td>\n",
       "      <td>0</td>\n",
       "      <td>3</td>\n",
       "      <td>Braund, Mr. Owen Harris</td>\n",
       "      <td>male</td>\n",
       "      <td>22.0</td>\n",
       "      <td>1</td>\n",
       "      <td>0</td>\n",
       "      <td>A/5 21171</td>\n",
       "      <td>7.2500</td>\n",
       "      <td>NaN</td>\n",
       "      <td>S</td>\n",
       "    </tr>\n",
       "    <tr>\n",
       "      <th>1</th>\n",
       "      <td>2</td>\n",
       "      <td>1</td>\n",
       "      <td>1</td>\n",
       "      <td>Cumings, Mrs. John Bradley (Florence Briggs Th...</td>\n",
       "      <td>female</td>\n",
       "      <td>38.0</td>\n",
       "      <td>1</td>\n",
       "      <td>0</td>\n",
       "      <td>PC 17599</td>\n",
       "      <td>71.2833</td>\n",
       "      <td>C85</td>\n",
       "      <td>C</td>\n",
       "    </tr>\n",
       "    <tr>\n",
       "      <th>2</th>\n",
       "      <td>3</td>\n",
       "      <td>1</td>\n",
       "      <td>3</td>\n",
       "      <td>Heikkinen, Miss. Laina</td>\n",
       "      <td>female</td>\n",
       "      <td>26.0</td>\n",
       "      <td>0</td>\n",
       "      <td>0</td>\n",
       "      <td>STON/O2. 3101282</td>\n",
       "      <td>7.9250</td>\n",
       "      <td>NaN</td>\n",
       "      <td>S</td>\n",
       "    </tr>\n",
       "    <tr>\n",
       "      <th>3</th>\n",
       "      <td>4</td>\n",
       "      <td>1</td>\n",
       "      <td>1</td>\n",
       "      <td>Futrelle, Mrs. Jacques Heath (Lily May Peel)</td>\n",
       "      <td>female</td>\n",
       "      <td>35.0</td>\n",
       "      <td>1</td>\n",
       "      <td>0</td>\n",
       "      <td>113803</td>\n",
       "      <td>53.1000</td>\n",
       "      <td>C123</td>\n",
       "      <td>S</td>\n",
       "    </tr>\n",
       "    <tr>\n",
       "      <th>4</th>\n",
       "      <td>5</td>\n",
       "      <td>0</td>\n",
       "      <td>3</td>\n",
       "      <td>Allen, Mr. William Henry</td>\n",
       "      <td>male</td>\n",
       "      <td>35.0</td>\n",
       "      <td>0</td>\n",
       "      <td>0</td>\n",
       "      <td>373450</td>\n",
       "      <td>8.0500</td>\n",
       "      <td>NaN</td>\n",
       "      <td>S</td>\n",
       "    </tr>\n",
       "  </tbody>\n",
       "</table>\n",
       "</div>"
      ],
      "text/plain": [
       "   PassengerId  Survived  Pclass  \\\n",
       "0            1         0       3   \n",
       "1            2         1       1   \n",
       "2            3         1       3   \n",
       "3            4         1       1   \n",
       "4            5         0       3   \n",
       "\n",
       "                                                Name     Sex   Age  SibSp  \\\n",
       "0                            Braund, Mr. Owen Harris    male  22.0      1   \n",
       "1  Cumings, Mrs. John Bradley (Florence Briggs Th...  female  38.0      1   \n",
       "2                             Heikkinen, Miss. Laina  female  26.0      0   \n",
       "3       Futrelle, Mrs. Jacques Heath (Lily May Peel)  female  35.0      1   \n",
       "4                           Allen, Mr. William Henry    male  35.0      0   \n",
       "\n",
       "   Parch            Ticket     Fare Cabin Embarked  \n",
       "0      0         A/5 21171   7.2500   NaN        S  \n",
       "1      0          PC 17599  71.2833   C85        C  \n",
       "2      0  STON/O2. 3101282   7.9250   NaN        S  \n",
       "3      0            113803  53.1000  C123        S  \n",
       "4      0            373450   8.0500   NaN        S  "
      ]
     },
     "execution_count": 10,
     "metadata": {},
     "output_type": "execute_result"
    }
   ],
   "source": [
    "df.head()"
   ]
  },
  {
   "cell_type": "code",
   "execution_count": 11,
   "id": "4bff9c15",
   "metadata": {},
   "outputs": [],
   "source": [
    "num_males = (df['Sex'] == 'male').sum()"
   ]
  },
  {
   "cell_type": "code",
   "execution_count": 12,
   "id": "e9939405",
   "metadata": {},
   "outputs": [
    {
     "name": "stdout",
     "output_type": "stream",
     "text": [
      "Number of males: 577\n"
     ]
    }
   ],
   "source": [
    "print(f'Number of males: {num_males}')"
   ]
  },
  {
   "cell_type": "code",
   "execution_count": 13,
   "id": "93f351ea",
   "metadata": {
    "scrolled": false
   },
   "outputs": [],
   "source": [
    "df.loc[5, 'Age'] = 28"
   ]
  },
  {
   "cell_type": "code",
   "execution_count": 14,
   "id": "7343eb61",
   "metadata": {},
   "outputs": [
    {
     "name": "stdout",
     "output_type": "stream",
     "text": [
      "PassengerId                   6\n",
      "Survived                      0\n",
      "Pclass                        3\n",
      "Name           Moran, Mr. James\n",
      "Sex                        male\n",
      "Age                        28.0\n",
      "SibSp                         0\n",
      "Parch                         0\n",
      "Ticket                   330877\n",
      "Fare                     8.4583\n",
      "Cabin                       NaN\n",
      "Embarked                      Q\n",
      "Name: 5, dtype: object\n"
     ]
    }
   ],
   "source": [
    "print(df.loc[5])"
   ]
  },
  {
   "cell_type": "code",
   "execution_count": 15,
   "id": "66b0bf85",
   "metadata": {},
   "outputs": [],
   "source": [
    "num_males = (df['Sex'] == 'male').sum()"
   ]
  },
  {
   "cell_type": "code",
   "execution_count": 16,
   "id": "200bf38c",
   "metadata": {},
   "outputs": [],
   "source": [
    "total_entries = len(df)"
   ]
  },
  {
   "cell_type": "code",
   "execution_count": 17,
   "id": "447ae4c0",
   "metadata": {},
   "outputs": [],
   "source": [
    "percentage_males = (num_males / total_entries) * 100"
   ]
  },
  {
   "cell_type": "code",
   "execution_count": 18,
   "id": "908caf01",
   "metadata": {},
   "outputs": [
    {
     "name": "stdout",
     "output_type": "stream",
     "text": [
      "Percentage of males: 64.76%\n"
     ]
    }
   ],
   "source": [
    "print(f'Percentage of males: {percentage_males:.2f}%')"
   ]
  },
  {
   "cell_type": "code",
   "execution_count": 19,
   "id": "160255e0",
   "metadata": {},
   "outputs": [
    {
     "data": {
      "text/plain": [
       "576"
      ]
     },
     "execution_count": 19,
     "metadata": {},
     "output_type": "execute_result"
    }
   ],
   "source": [
    "count = 0\n",
    "for person in df[\"Age\"]:\n",
    "    if person > 18:\n",
    "        count = count +1\n",
    "count"
   ]
  },
  {
   "cell_type": "code",
   "execution_count": 20,
   "id": "090a4bbc",
   "metadata": {},
   "outputs": [],
   "source": [
    "count = (df['Age'] > 18).sum()"
   ]
  },
  {
   "cell_type": "code",
   "execution_count": 21,
   "id": "03145667",
   "metadata": {},
   "outputs": [
    {
     "name": "stdout",
     "output_type": "stream",
     "text": [
      "576\n"
     ]
    }
   ],
   "source": [
    "print(count)"
   ]
  },
  {
   "cell_type": "code",
   "execution_count": 22,
   "id": "c4553a0e",
   "metadata": {},
   "outputs": [
    {
     "data": {
      "text/plain": [
       "64.75869809203144"
      ]
     },
     "execution_count": 22,
     "metadata": {},
     "output_type": "execute_result"
    }
   ],
   "source": [
    "count = 0 \n",
    "for person in df [\"Sex\"]:\n",
    "    if person == \"male\":\n",
    "        count = count + 1 \n",
    "        \n",
    "count = (count / len(df)) * 100\n",
    "count"
   ]
  },
  {
   "cell_type": "code",
   "execution_count": 23,
   "id": "012d4bfb",
   "metadata": {},
   "outputs": [],
   "source": [
    "embark_counts = (df['Embarked']).value_counts()"
   ]
  },
  {
   "cell_type": "code",
   "execution_count": 24,
   "id": "6b35d439",
   "metadata": {},
   "outputs": [],
   "source": [
    "embark_percentages = (embark_counts / len(df)) * 100"
   ]
  },
  {
   "cell_type": "code",
   "execution_count": 25,
   "id": "cf2612ba",
   "metadata": {},
   "outputs": [
    {
     "name": "stdout",
     "output_type": "stream",
     "text": [
      "S    72.278339\n",
      "C    18.855219\n",
      "Q     8.641975\n",
      "Name: Embarked, dtype: float64\n"
     ]
    }
   ],
   "source": [
    "print(embark_percentages)"
   ]
  },
  {
   "cell_type": "code",
   "execution_count": 26,
   "id": "8876de96",
   "metadata": {},
   "outputs": [],
   "source": [
    "frequency_table = df['Embarked'].value_counts()"
   ]
  },
  {
   "cell_type": "code",
   "execution_count": 27,
   "id": "cf913e71",
   "metadata": {},
   "outputs": [
    {
     "name": "stdout",
     "output_type": "stream",
     "text": [
      "S    644\n",
      "C    168\n",
      "Q     77\n",
      "Name: Embarked, dtype: int64\n"
     ]
    }
   ],
   "source": [
    "print(frequency_table)"
   ]
  },
  {
   "cell_type": "code",
   "execution_count": 28,
   "id": "1c753bc5",
   "metadata": {},
   "outputs": [],
   "source": [
    "total_tickets_sold = frequency_table.sum()"
   ]
  },
  {
   "cell_type": "code",
   "execution_count": 29,
   "id": "1e0064dd",
   "metadata": {},
   "outputs": [
    {
     "name": "stdout",
     "output_type": "stream",
     "text": [
      "Total tickets sold on Titanic's maiden voyage: 889\n"
     ]
    }
   ],
   "source": [
    "print(f'Total tickets sold on Titanic\\'s maiden voyage: {total_tickets_sold}')"
   ]
  },
  {
   "cell_type": "code",
   "execution_count": 30,
   "id": "fed4283e",
   "metadata": {},
   "outputs": [],
   "source": [
    "port_counts = df['Embarked'].value_counts()"
   ]
  },
  {
   "cell_type": "code",
   "execution_count": 31,
   "id": "77728d04",
   "metadata": {},
   "outputs": [],
   "source": [
    "relative_frequencies = port_counts / port_counts.sum()"
   ]
  },
  {
   "cell_type": "code",
   "execution_count": 32,
   "id": "78f5f8a3",
   "metadata": {},
   "outputs": [],
   "source": [
    "percentages = relative_frequencies * 100"
   ]
  },
  {
   "cell_type": "code",
   "execution_count": 33,
   "id": "6a4fb567",
   "metadata": {},
   "outputs": [
    {
     "name": "stdout",
     "output_type": "stream",
     "text": [
      "S    72.440945\n",
      "C    18.897638\n",
      "Q     8.661417\n",
      "Name: Embarked, dtype: float64\n"
     ]
    }
   ],
   "source": [
    "print(percentages)"
   ]
  },
  {
   "cell_type": "code",
   "execution_count": 34,
   "id": "11616035",
   "metadata": {},
   "outputs": [],
   "source": [
    "sample_528 = df.iloc[527]"
   ]
  },
  {
   "cell_type": "code",
   "execution_count": 35,
   "id": "2d60e6a2",
   "metadata": {},
   "outputs": [
    {
     "name": "stdout",
     "output_type": "stream",
     "text": [
      "PassengerId                   528\n",
      "Survived                        0\n",
      "Pclass                          1\n",
      "Name           Farthing, Mr. John\n",
      "Sex                          male\n",
      "Age                           NaN\n",
      "SibSp                           0\n",
      "Parch                           0\n",
      "Ticket                   PC 17483\n",
      "Fare                     221.7792\n",
      "Cabin                         C95\n",
      "Embarked                        S\n",
      "Name: 527, dtype: object\n"
     ]
    }
   ],
   "source": [
    "print(sample_528)"
   ]
  },
  {
   "cell_type": "code",
   "execution_count": 36,
   "id": "689ef901",
   "metadata": {},
   "outputs": [
    {
     "data": {
      "text/html": [
       "<div>\n",
       "<style scoped>\n",
       "    .dataframe tbody tr th:only-of-type {\n",
       "        vertical-align: middle;\n",
       "    }\n",
       "\n",
       "    .dataframe tbody tr th {\n",
       "        vertical-align: top;\n",
       "    }\n",
       "\n",
       "    .dataframe thead th {\n",
       "        text-align: right;\n",
       "    }\n",
       "</style>\n",
       "<table border=\"1\" class=\"dataframe\">\n",
       "  <thead>\n",
       "    <tr style=\"text-align: right;\">\n",
       "      <th></th>\n",
       "      <th>PassengerId</th>\n",
       "      <th>Survived</th>\n",
       "      <th>Pclass</th>\n",
       "      <th>Name</th>\n",
       "      <th>Sex</th>\n",
       "      <th>Age</th>\n",
       "      <th>SibSp</th>\n",
       "      <th>Parch</th>\n",
       "      <th>Ticket</th>\n",
       "      <th>Fare</th>\n",
       "      <th>Cabin</th>\n",
       "      <th>Embarked</th>\n",
       "    </tr>\n",
       "  </thead>\n",
       "  <tbody>\n",
       "    <tr>\n",
       "      <th>527</th>\n",
       "      <td>528</td>\n",
       "      <td>0</td>\n",
       "      <td>1</td>\n",
       "      <td>Farthing, Mr. John</td>\n",
       "      <td>male</td>\n",
       "      <td>NaN</td>\n",
       "      <td>0</td>\n",
       "      <td>0</td>\n",
       "      <td>PC 17483</td>\n",
       "      <td>221.7792</td>\n",
       "      <td>C95</td>\n",
       "      <td>S</td>\n",
       "    </tr>\n",
       "  </tbody>\n",
       "</table>\n",
       "</div>"
      ],
      "text/plain": [
       "     PassengerId  Survived  Pclass                Name   Sex  Age  SibSp  \\\n",
       "527          528         0       1  Farthing, Mr. John  male  NaN      0   \n",
       "\n",
       "     Parch    Ticket      Fare Cabin Embarked  \n",
       "527      0  PC 17483  221.7792   C95        S  "
      ]
     },
     "execution_count": 36,
     "metadata": {},
     "output_type": "execute_result"
    }
   ],
   "source": [
    "df[df['PassengerId'] == 528]"
   ]
  },
  {
   "cell_type": "code",
   "execution_count": 37,
   "id": "5682771a",
   "metadata": {},
   "outputs": [
    {
     "name": "stdout",
     "output_type": "stream",
     "text": [
      "     PassengerId  Survived  Pclass                           Name     Sex  \\\n",
      "706          707         1       2  Kelly, Mrs. Florence \"Fannie\"  female   \n",
      "\n",
      "      Age  SibSp  Parch  Ticket  Fare Cabin Embarked  \n",
      "706  45.0      0      0  223596  13.5   NaN        S  \n"
     ]
    }
   ],
   "source": [
    "print(df.loc[df['Name'].str.contains(\"Fannie\", case=False, na=False)])"
   ]
  },
  {
   "cell_type": "code",
   "execution_count": 38,
   "id": "f95d3c94",
   "metadata": {},
   "outputs": [],
   "source": [
    "idx = 0\n",
    "for person in df[\"Name\"]:\n",
    "    if \"Fannie\" in person:\n",
    "        break\n",
    "    idx = +1\n",
    "    df.loc[idx]"
   ]
  },
  {
   "cell_type": "code",
   "execution_count": 39,
   "id": "8cadc399",
   "metadata": {},
   "outputs": [
    {
     "name": "stdout",
     "output_type": "stream",
     "text": [
      "Survived    0    1  All\n",
      "Sex                    \n",
      "female     81  233  314\n",
      "male      468  109  577\n",
      "All       549  342  891\n"
     ]
    }
   ],
   "source": [
    "contingency_table = pd.crosstab(df['Sex'], df['Survived'], margins=True)\n",
    "\n",
    "print(contingency_table)"
   ]
  },
  {
   "cell_type": "code",
   "execution_count": 40,
   "id": "1510feae",
   "metadata": {},
   "outputs": [
    {
     "ename": "NameError",
     "evalue": "name 'femaleDied' is not defined",
     "output_type": "error",
     "traceback": [
      "\u001b[1;31m---------------------------------------------------------------------------\u001b[0m",
      "\u001b[1;31mNameError\u001b[0m                                 Traceback (most recent call last)",
      "\u001b[1;32m~\\AppData\\Local\\Temp\\ipykernel_17136\\159151959.py\u001b[0m in \u001b[0;36m<module>\u001b[1;34m\u001b[0m\n\u001b[0;32m      9\u001b[0m         \u001b[0mmaleSurvive\u001b[0m \u001b[1;33m+=\u001b[0m \u001b[1;36m1\u001b[0m\u001b[1;33m\u001b[0m\u001b[1;33m\u001b[0m\u001b[0m\n\u001b[0;32m     10\u001b[0m     \u001b[1;32mif\u001b[0m \u001b[0mdf\u001b[0m\u001b[1;33m.\u001b[0m\u001b[0mloc\u001b[0m\u001b[1;33m[\u001b[0m\u001b[0midx\u001b[0m\u001b[1;33m]\u001b[0m\u001b[1;33m[\u001b[0m\u001b[1;34m\"Sex\"\u001b[0m\u001b[1;33m]\u001b[0m \u001b[1;33m==\u001b[0m \u001b[1;34m\"female\"\u001b[0m \u001b[1;32mand\u001b[0m \u001b[0mdf\u001b[0m\u001b[1;33m.\u001b[0m\u001b[0mloc\u001b[0m\u001b[1;33m[\u001b[0m\u001b[0midx\u001b[0m\u001b[1;33m]\u001b[0m\u001b[1;33m[\u001b[0m\u001b[1;34m\"Survived\"\u001b[0m\u001b[1;33m]\u001b[0m \u001b[1;33m==\u001b[0m \u001b[1;36m0\u001b[0m\u001b[1;33m:\u001b[0m\u001b[1;33m\u001b[0m\u001b[1;33m\u001b[0m\u001b[0m\n\u001b[1;32m---> 11\u001b[1;33m         \u001b[0mfemaleDied\u001b[0m \u001b[1;33m+=\u001b[0m \u001b[1;36m1\u001b[0m\u001b[1;33m\u001b[0m\u001b[1;33m\u001b[0m\u001b[0m\n\u001b[0m\u001b[0;32m     12\u001b[0m     \u001b[1;32melif\u001b[0m \u001b[0mdf\u001b[0m\u001b[1;33m.\u001b[0m\u001b[0mloc\u001b[0m\u001b[1;33m[\u001b[0m\u001b[0midx\u001b[0m\u001b[1;33m]\u001b[0m\u001b[1;33m[\u001b[0m\u001b[1;34m\"Sex\"\u001b[0m\u001b[1;33m]\u001b[0m \u001b[1;33m==\u001b[0m \u001b[1;34m\"female\"\u001b[0m \u001b[1;32mand\u001b[0m \u001b[0mdf\u001b[0m\u001b[1;33m.\u001b[0m\u001b[0mloc\u001b[0m\u001b[1;33m[\u001b[0m\u001b[0midx\u001b[0m\u001b[1;33m]\u001b[0m\u001b[1;33m[\u001b[0m\u001b[1;34m\"Survived\"\u001b[0m\u001b[1;33m]\u001b[0m \u001b[1;33m==\u001b[0m \u001b[1;36m1\u001b[0m\u001b[1;33m:\u001b[0m\u001b[1;33m\u001b[0m\u001b[1;33m\u001b[0m\u001b[0m\n\u001b[0;32m     13\u001b[0m         \u001b[0mfemaleSurvive\u001b[0m \u001b[1;33m+=\u001b[0m \u001b[1;36m1\u001b[0m\u001b[1;33m\u001b[0m\u001b[1;33m\u001b[0m\u001b[0m\n",
      "\u001b[1;31mNameError\u001b[0m: name 'femaleDied' is not defined"
     ]
    }
   ],
   "source": [
    "maleSurvive = 0\n",
    "femaleSurvive = 0\n",
    "maleDied = 0\n",
    "femaledDied = 0\n",
    "for idx in range(len(df)):\n",
    "    if df.loc[idx][\"Sex\"] == \"male\" and df.loc[idx][\"Survived\"] == 0:\n",
    "        maleDied += 1\n",
    "    elif df.loc[idx][\"Sex\"] == \"male\" and df.loc[idx][\"Survived\"] == 1:\n",
    "        maleSurvive += 1\n",
    "    if df.loc[idx][\"Sex\"] == \"female\" and df.loc[idx][\"Survived\"] == 0:\n",
    "        femaleDied += 1\n",
    "    elif df.loc[idx][\"Sex\"] == \"female\" and df.loc[idx][\"Survived\"] == 1:\n",
    "        femaleSurvive += 1\n",
    "conTable = pd.DataFrame({\n",
    "        \"Male\": [maleSurvive, maleDied],\n",
    "        \"Female\": [femaleSurvive, femaleDied]\n",
    "    })\n",
    "conTable. index = [\"Survived\" , \"Died\"]\n",
    "print(df.loc[idx][\"Sex\"], df.loc[idx][\"Survived\"])"
   ]
  },
  {
   "cell_type": "code",
   "execution_count": 41,
   "id": "6f322ada",
   "metadata": {},
   "outputs": [],
   "source": [
    "df['Age Group'] = df['Age'].apply(lambda x: 'Under 18' if x < 18 else 'Over 18')"
   ]
  },
  {
   "cell_type": "code",
   "execution_count": 49,
   "id": "6345448c",
   "metadata": {},
   "outputs": [],
   "source": [
    "childSurvive = 0\n",
    "childDied = 0\n",
    "adultSurvive = 0\n",
    "adultDied = 0\n",
    "elderSurvive = 0\n",
    "elderDied = 0 \n",
    "for idx in range (len(df)):\n",
    "    if df.loc[idx][\"Age\"] < 18 and df.loc[idx][\"Survived\"] == 1:\n",
    "        childSurvive += 1\n",
    "    elif df.loc[idx][\"Age\"] < 18 and df.loc[idx][\"Survived\"] == 0:\n",
    "        childDied += 1\n",
    "    elif df.loc[idx][\"Age\"] >= 18 and df.loc[idx][\"Age\"] < 60 and df.loc[idx][\"Survived\"] == 0:\n",
    "        adultSurvive += 1\n",
    "    elif df.loc[idx][\"Age\"] >= 18 and df.loc[idx][\"Age\"] < 60 and df.loc[idx][\"Survived\"] == 1:\n",
    "        adultDied += 1\n",
    "  \n",
    "    elif df.loc[idx][\"Age\"] >= 60 and df.loc[idx][\"Age\"] < 60 and df.loc[idx][\"Survived\"] == 0:\n",
    "        elderlySurvive += 1\n",
    "    elif df.loc[idx][\"Age\"] >= 60 and df.loc[idx][\"Age\"] < 60 and df.loc[idx][\"Survived\"] == 1:\n",
    "        elderlyDied += 1"
   ]
  },
  {
   "cell_type": "code",
   "execution_count": 43,
   "id": "cbb1b1ff",
   "metadata": {},
   "outputs": [
    {
     "name": "stdout",
     "output_type": "stream",
     "text": [
      "S    644\n",
      "C    168\n",
      "Q     77\n",
      "Name: Embarked, dtype: int64\n",
      "  Embarked  Survived\n",
      "0        S         0\n",
      "1        C         1\n",
      "2        S         1\n",
      "3        S         1\n",
      "4        S         0\n"
     ]
    }
   ],
   "source": [
    "print(df['Embarked'].value_counts())\n",
    "print(df[['Embarked', 'Survived']].head())"
   ]
  },
  {
   "cell_type": "code",
   "execution_count": 44,
   "id": "53a0fa89",
   "metadata": {},
   "outputs": [
    {
     "name": "stdout",
     "output_type": "stream",
     "text": [
      "Embarked\n",
      "C    0.553571\n",
      "Q    0.389610\n",
      "S    0.336957\n",
      "Name: Survived, dtype: float64\n"
     ]
    }
   ],
   "source": [
    "survival_rates = df.groupby('Embarked')['Survived'].mean()\n",
    "print(survival_rates)"
   ]
  },
  {
   "cell_type": "code",
   "execution_count": 45,
   "id": "5bfe564f",
   "metadata": {},
   "outputs": [
    {
     "data": {
      "image/png": "[encoded data removed]",
      "text/plain": [
       "<Figure size 800x600 with 1 Axes>"
      ]
     },
     "metadata": {},
     "output_type": "display_data"
    }
   ],
   "source": [
    "import seaborn as sns\n",
    "import matplotlib.pyplot as plt\n",
    "\n",
    "# Create a bar plot\n",
    "plt.figure(figsize=(8, 6))\n",
    "sns.barplot(x=survival_rates.index, y=survival_rates.values, palette='viridis')\n",
    "plt.xlabel('Embarked City')\n",
    "plt.ylabel('Survival Rate')\n",
    "plt.title('Survival Rate by Embarked City')\n",
    "plt.show()"
   ]
  },
  {
   "cell_type": "code",
   "execution_count": 46,
   "id": "10eb02ac",
   "metadata": {},
   "outputs": [
    {
     "name": "stdout",
     "output_type": "stream",
     "text": [
      "Survived    0    1\n",
      "Embarked          \n",
      "C          75   93\n",
      "Q          47   30\n",
      "S         427  217\n"
     ]
    }
   ],
   "source": [
    "contingency_table = pd.crosstab(df['Embarked'], df['Survived'])\n",
    "print(contingency_table)"
   ]
  },
  {
   "cell_type": "code",
   "execution_count": 47,
   "id": "e4594fe5",
   "metadata": {},
   "outputs": [
    {
     "name": "stdout",
     "output_type": "stream",
     "text": [
      "Survived         0         1\n",
      "Embarked                    \n",
      "C         0.446429  0.553571\n",
      "Q         0.610390  0.389610\n",
      "S         0.663043  0.336957\n"
     ]
    }
   ],
   "source": [
    "relative_contingency_table = contingency_table.div(contingency_table.sum(axis=1), axis=0)\n",
    "print(relative_contingency_table)"
   ]
  },
  {
   "cell_type": "code",
   "execution_count": 48,
   "id": "649a487c",
   "metadata": {},
   "outputs": [
    {
     "data": {
      "image/png": "[encoded data removed]",
      "text/plain": [
       "<Figure size 800x600 with 2 Axes>"
      ]
     },
     "metadata": {},
     "output_type": "display_data"
    }
   ],
   "source": [
    "import seaborn as sns\n",
    "import matplotlib.pyplot as plt\n",
    "\n",
    "plt.figure(figsize=(8, 6))\n",
    "sns.heatmap(relative_contingency_table, annot=True, cmap='coolwarm', fmt='.2f')\n",
    "plt.xlabel('Survived')\n",
    "plt.ylabel('Embarked')\n",
    "plt.title('Relative Contingency Table of Embarked City and Survival')\n",
    "plt.show()"
   ]
  },
  {
   "cell_type": "code",
   "execution_count": null,
   "id": "d569fa1b",
   "metadata": {},
   "outputs": [],
   "source": []
  }
 ],
 "metadata": {
  "kernelspec": {
   "display_name": "Python 3 (ipykernel)",
   "language": "python",
   "name": "python3"
  },
  "language_info": {
   "codemirror_mode": {
    "name": "ipython",
    "version": 3
   },
   "file_extension": ".py",
   "mimetype": "text/x-python",
   "name": "python",
   "nbconvert_exporter": "python",
   "pygments_lexer": "ipython3",
   "version": "3.9.13"
  }
 },
 "nbformat": 4,
 "nbformat_minor": 5
}
